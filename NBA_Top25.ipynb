{
 "cells": [
  {
   "cell_type": "code",
   "execution_count": null,
   "id": "ab053fae",
   "metadata": {},
   "outputs": [],
   "source": [
    "#importing modules\n",
    "\n",
    "import pandas as pd\n",
    "import numpy as np\n",
    "from bs4 import BeautifulSoup as bs\n",
    "import requests\n",
    "from csv import writer\n"
   ]
  },
  {
   "cell_type": "code",
   "execution_count": null,
   "id": "2747b6f0",
   "metadata": {},
   "outputs": [],
   "source": [
    "#loading CSV File of Player Stats into DataFrame\n",
    "players = pd.read_csv(\"Seasons_Stats.csv\",\n",
    "                    delimiter = ',',\n",
    "                   index_col=[0])\n",
    "\n",
    "\n",
    "#Drop columns with many NaN values\n",
    "players.drop(columns= [x for x in players if (round((players[x].isna().sum()/len(players)*100),2) > 50)],inplace = True)\n",
    "players = players[players.isnull().sum(axis=1) < 40]\n",
    "\n",
    "#Choosing relevant stats and creating a different Dataframe\n",
    "stats = players[['Player','G','PER','TS%','WS/48','TRB','AST','PTS']]\n",
    "\n",
    "\n"
   ]
  },
  {
   "cell_type": "code",
   "execution_count": null,
   "id": "1ff0e1d5",
   "metadata": {},
   "outputs": [],
   "source": [
    "#Declaring NBA League Criteria for All-time Greats\n",
    "def league_criteria(x):\n",
    "    rows = x[x['G'] < 400].index\n",
    "    x.drop(rows, inplace = True)"
   ]
  },
  {
   "cell_type": "code",
   "execution_count": null,
   "id": "789af5bb",
   "metadata": {},
   "outputs": [],
   "source": [
    "#Grouping year-wise stats of players into single row\n",
    "stats = stats.groupby(['Player']).agg({'G':'sum',\n",
    "                                             'PER':'mean',\n",
    "                                             'TS%':'mean',\n",
    "                                             'WS/48':'mean',\n",
    "                                             'TRB':'sum',\n",
    "                                             'AST':'sum',\n",
    "                                             'PTS':'sum'}).reset_index()\n",
    "\n",
    "league_criteria(stats)\n",
    "\n",
    "\n",
    "    "
   ]
  },
  {
   "cell_type": "code",
   "execution_count": null,
   "id": "7cd8abf9",
   "metadata": {},
   "outputs": [],
   "source": [
    "points = stats[['Player','G','TRB','AST','PTS','WS/48','TS%','PER']]\n",
    "\n",
    "\n",
    "points['Points Per Game'] = points.apply(lambda row: row.PTS / row.G, axis=1)\n",
    "points['Assists Per Game'] = points.apply(lambda row: row.AST / row.G, axis=1)\n",
    "points['Rebounds Per Game'] = points.apply(lambda row: row.TRB / row.G, axis=1)\n",
    "\n"
   ]
  },
  {
   "cell_type": "code",
   "execution_count": null,
   "id": "49713b02",
   "metadata": {},
   "outputs": [],
   "source": [
    "#Point scoring function\n",
    "def scores(rank):\n",
    "    return (20 - ((rank-1))) if rank < 21 else 0\n",
    "\n",
    "    \n",
    "#Rank function        \n",
    "def tally(col_source,col_target):\n",
    "    global points\n",
    "    \n",
    "    points[col_target] = points[col_source].rank(method = 'average', ascending = False)\n",
    "    points[col_target] = points[col_target].apply(scores)\n",
    "    \n",
    "        \n",
    "\n",
    "\n",
    "\n",
    "tally('Points Per Game','PPG_Scores')\n",
    "tally('Assists Per Game','APG_Scores')\n",
    "tally('Rebounds Per Game','RPG_Scores')\n",
    "tally('WS/48','WS48_Scores')\n",
    "tally('TS%','TS_Scores')\n",
    "tally('PER','PER_Scores')\n",
    "\n",
    "#Adding points of criteria calculated so far\n",
    "points['TOTAL'] = points.iloc[:,11:17].sum(axis=1)\n",
    "points = points.sort_values(by=\"TOTAL\",ascending=False)\n",
    "\n",
    "points = points.reset_index(drop = True)\n",
    "\n",
    "\n",
    "\n",
    "           "
   ]
  },
  {
   "cell_type": "code",
   "execution_count": null,
   "id": "417e0125",
   "metadata": {
    "scrolled": true
   },
   "outputs": [],
   "source": [
    "points_eligible = points.sort_values(by = 'TOTAL', ascending = False)\n",
    "points_eligible['Player'] = points_eligible['Player'].str.replace(r'*', '')\n"
   ]
  },
  {
   "cell_type": "code",
   "execution_count": null,
   "id": "d36acfb6",
   "metadata": {},
   "outputs": [],
   "source": [
    "#Scraping data of Championships won by players\n",
    "\n",
    "url_1 = \"https://www.landofbasketball.com/championships/players_with_most_titles.htm\"\n",
    "page = requests.get(url_1)\n",
    "\n",
    "soup = bs(page.content,'html.parser')\n",
    "champ = soup.find('main', class_ = \"main-content\")\n",
    "player = champ.find_all('tr', class_ = ['a-top bt','a-top'])\n",
    "\n",
    "with open('Championships.csv','w',encoding = 'utf8', newline = '') as f:\n",
    "    thewriter = writer(f)\n",
    "    header = ['Player','Championships']\n",
    "    thewriter.writerow(header)\n",
    "    for r1 in player:\n",
    "        pl_name = r1.find('a').text\n",
    "        pl_count = r1.find('div', style = \"width: 70px\").text\n",
    "        info = [pl_name, pl_count]\n",
    "        thewriter.writerow(info)\n",
    "        \n",
    "champions = pd.read_csv(\"Championships.csv\",\n",
    "                    delimiter = ',')\n"
   ]
  },
  {
   "cell_type": "code",
   "execution_count": null,
   "id": "6be6b333",
   "metadata": {},
   "outputs": [],
   "source": [
    "points_eligible = pd.merge(points_eligible,champions, on='Player', how='left')"
   ]
  },
  {
   "cell_type": "code",
   "execution_count": null,
   "id": "53854303",
   "metadata": {},
   "outputs": [],
   "source": [
    "#Creating DataFrame for Finals MVP list of players\n",
    "\n",
    "fmvp_name = ['Bill Russell', 'Michael Jordan', 'LeBron James', 'Tim Duncan', \"Shaquille O'Neal\", 'Magic Johnson',\n",
    "             'Kareem Abdul-Jabbar', 'Larry Bird', 'Kawhi Leonard','Kevin Durant', 'Kobe Bryant', 'Hakeem Olajuwon', 'Willis Reed', \n",
    "             'Giannis Antetokounmpo', 'Rick Barry', 'Chauncey Billups','Wilt Chamberlain', 'Stephen Curry', 'Joe Dumars',\n",
    "             'John Havlicek', 'Andre Iguodala', 'Dennis Johnson', 'Moses Malone','Cedric Maxwell', 'Dirk Nowitzki',\n",
    "             'Tony Parker', 'Paul Pierce', 'Isiah Thomas', 'Wes Unseld', 'Dwyane Wade', 'Bill Walton', 'Jerry West', \n",
    "             'Jo Jo White', 'James Worthy']\n",
    "\n",
    "count1 = [9,6,4,3,3,3,2,2,2,2,2,2,2]\n",
    "count2 = [1]*21\n",
    "fmvp_count = count1+count2\n",
    "\n",
    "fmvp_list = list(zip(fmvp_name, fmvp_count))\n",
    "FMVPs = pd.DataFrame(fmvp_list, columns=['Player', 'FMVPs'])\n",
    "\n",
    "\n",
    "\n",
    "\n",
    "\n",
    "\n"
   ]
  },
  {
   "cell_type": "code",
   "execution_count": null,
   "id": "a80a4540",
   "metadata": {},
   "outputs": [],
   "source": [
    "points_eligible = pd.merge(points_eligible,FMVPs, on='Player', how='left')"
   ]
  },
  {
   "cell_type": "code",
   "execution_count": null,
   "id": "3ddf77d6",
   "metadata": {},
   "outputs": [],
   "source": [
    "#Importing and adding data for regular season MVPs\n",
    "\n",
    "RMVPs = pd.read_html(\"https://www.basketball-reference.com/awards/finals_mvp.html\")\n",
    "\n",
    "for idx, table in enumerate(RMVPs):\n",
    "    print(\"*************************\")\n",
    "    print(idx)\n",
    "    print(table)"
   ]
  },
  {
   "cell_type": "code",
   "execution_count": null,
   "id": "5d31606e",
   "metadata": {},
   "outputs": [],
   "source": [
    "RMVPS = RMVPs[1]\n",
    "RMVPS = RMVPS.drop('Lg', axis = 1)\n",
    "RMVPS = RMVPS.rename(columns = {'Count':'RMVPs'})\n"
   ]
  },
  {
   "cell_type": "code",
   "execution_count": null,
   "id": "f0918a03",
   "metadata": {},
   "outputs": [],
   "source": [
    "points_eligible = pd.merge(points_eligible,RMVPS, on='Player', how='left')"
   ]
  },
  {
   "cell_type": "code",
   "execution_count": null,
   "id": "295d20a8",
   "metadata": {},
   "outputs": [],
   "source": [
    "#Importing and adding data for all-NBA Team Selections\n",
    "\n",
    "All_NBA = pd.read_html(\"https://www.basketball-reference.com/awards/all_league_by_player.html\")\n",
    "\n",
    "for idx, table in enumerate(All_NBA):\n",
    "    print(\"*************************\")\n",
    "    print(idx)\n",
    "    print(table)"
   ]
  },
  {
   "cell_type": "code",
   "execution_count": null,
   "id": "0001d1d7",
   "metadata": {},
   "outputs": [],
   "source": [
    "all_nba = All_NBA[0]\n",
    "all_nba.columns = all_nba.columns.droplevel(0)\n",
    "all_nba = all_nba.rename(columns = {'Tot':'All NBA Team Selections'})\n",
    "all_nba = all_nba[['Player','All NBA Team Selections']]\n",
    "all_nba = all_nba.iloc[:, :-2]"
   ]
  },
  {
   "cell_type": "code",
   "execution_count": null,
   "id": "36ae5765",
   "metadata": {},
   "outputs": [],
   "source": [
    "points_eligible = pd.merge(points_eligible,all_nba, on='Player', how='left')"
   ]
  },
  {
   "cell_type": "code",
   "execution_count": null,
   "id": "53ded8ee",
   "metadata": {},
   "outputs": [],
   "source": [
    "#Importing and adding data for all Defensive Team Selections\n",
    "\n",
    "\n",
    "all_def = pd.read_html(\"https://www.basketball-reference.com/awards/all_defense_by_player.html\")\n",
    "\n",
    "for idx, table in enumerate(all_def):\n",
    "    print(\"*************************\")\n",
    "    print(idx)\n",
    "    print(table)"
   ]
  },
  {
   "cell_type": "code",
   "execution_count": null,
   "id": "c9642650",
   "metadata": {},
   "outputs": [],
   "source": [
    "all_defensive = all_def[0]\n",
    "all_defensive = all_defensive.rename(columns = {'Tot':'All Defensive Team Selections'})\n",
    "all_defensive.columns = all_defensive.columns.droplevel(0)\n",
    "all_defensive = all_defensive[['Player','All Defensive Team Selections']]\n",
    "all_defensive = all_defensive.iloc[:, :-2]\n"
   ]
  },
  {
   "cell_type": "code",
   "execution_count": null,
   "id": "720f35fb",
   "metadata": {},
   "outputs": [],
   "source": [
    "points_eligible = pd.merge(points_eligible,all_defensive, on='Player', how='left')"
   ]
  },
  {
   "cell_type": "code",
   "execution_count": null,
   "id": "f312ad93",
   "metadata": {},
   "outputs": [],
   "source": [
    "def scores2(rank):\n",
    "    return (27.5 - ((rank-1))) if rank < 20 else 0\n",
    "\n",
    "def scores3(rank):\n",
    "    return (22.5 - ((rank))) if rank < 20 else 0\n",
    "\n",
    "\n",
    "\n",
    "\n",
    "def tally2(col_source,col_target):\n",
    "    global points_eligible\n",
    "    \n",
    "    points_eligible[col_target] = points_eligible[col_source].rank(method = 'min', ascending = False)\n",
    "    points_eligible[col_target] = points_eligible[col_target].apply(scores2)\n",
    "\n",
    "def tally3(col_source,col_target):\n",
    "    global points_eligible\n",
    "    \n",
    "    points_eligible[col_target] = points_eligible[col_source].rank(method = 'min', ascending = False)\n",
    "    points_eligible[col_target] = points_eligible[col_target].apply(scores3)\n",
    "    \n",
    "    "
   ]
  },
  {
   "cell_type": "code",
   "execution_count": null,
   "id": "9d5ebf9a",
   "metadata": {
    "scrolled": true
   },
   "outputs": [],
   "source": [
    "points_eligible['Champ_Scores'] = 3*points_eligible['Championships']\n"
   ]
  },
  {
   "cell_type": "code",
   "execution_count": null,
   "id": "d9eedd10",
   "metadata": {},
   "outputs": [],
   "source": [
    "tally2('FMVPs','FMVP_Scores')\n",
    "tally2('RMVPs','RMVP_Scores')\n",
    "tally3('All NBA Team Selections','AllNBA_Scores')\n",
    "tally3('All Defensive Team Selections','AllDefensive_Scores')\n"
   ]
  },
  {
   "cell_type": "code",
   "execution_count": null,
   "id": "31b56940",
   "metadata": {},
   "outputs": [],
   "source": [
    "#Creating DataFrame for Impact of players on society\n",
    "\n",
    "impact_name = ['Michael Jordan','Kobe Bryant','Stephen Curry','LeBron James','Bill Russell','Allen Iverson',\"Shaquille O'Neal\",\n",
    "         'Magic Johnson','Julius Erving','Wilt Chamberlain']\n",
    "\n",
    "impact_count = [i for i in range(10,0,-1)]\n",
    "\n",
    "\n",
    "impact_list = list(zip(impact_name, impact_count))\n",
    "Impact = pd.DataFrame(impact_list, columns=['Player', 'Impact'])\n",
    "\n",
    "\n",
    "\n",
    "\n"
   ]
  },
  {
   "cell_type": "code",
   "execution_count": null,
   "id": "8037dcf7",
   "metadata": {},
   "outputs": [],
   "source": [
    "points_eligible = pd.merge(points_eligible,Impact, on='Player', how='left')"
   ]
  },
  {
   "cell_type": "code",
   "execution_count": null,
   "id": "8df2d6b7",
   "metadata": {},
   "outputs": [],
   "source": [
    "points_eligible = points_eligible.fillna(0)"
   ]
  },
  {
   "cell_type": "code",
   "execution_count": null,
   "id": "12b6a2c5",
   "metadata": {},
   "outputs": [],
   "source": [
    "#Summing all points given for each metric\n",
    "\n",
    "x = points_eligible.iloc[:,23:28].sum(axis=1)\n",
    "points_eligible['TOTAL'] = points_eligible['TOTAL'] + x"
   ]
  },
  {
   "cell_type": "code",
   "execution_count": null,
   "id": "ac20f418",
   "metadata": {},
   "outputs": [],
   "source": [
    "points_eligible = points_eligible.sort_values(by = 'TOTAL', ascending = False)\n"
   ]
  },
  {
   "cell_type": "code",
   "execution_count": null,
   "id": "1a1e5851",
   "metadata": {},
   "outputs": [],
   "source": [
    "FINAL = points_eligible[['Player','TOTAL']]\n",
    "FINAL = FINAL[FINAL['TOTAL']>0]\n",
    "FINAL = FINAL.reset_index(drop = True)\n",
    "FINAL.index +=1\n",
    "\n",
    "#TOP 25\n",
    "FINAL.head(25)\n"
   ]
  },
  {
   "cell_type": "code",
   "execution_count": null,
   "id": "903091f5",
   "metadata": {},
   "outputs": [],
   "source": []
  }
 ],
 "metadata": {
  "kernelspec": {
   "display_name": "Python 3 (ipykernel)",
   "language": "python",
   "name": "python3"
  },
  "language_info": {
   "codemirror_mode": {
    "name": "ipython",
    "version": 3
   },
   "file_extension": ".py",
   "mimetype": "text/x-python",
   "name": "python",
   "nbconvert_exporter": "python",
   "pygments_lexer": "ipython3",
   "version": "3.9.13"
  }
 },
 "nbformat": 4,
 "nbformat_minor": 5
}
